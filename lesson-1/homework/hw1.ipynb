{
 "cells": [
  {
   "cell_type": "code",
   "execution_count": null,
   "id": "ac08ffc7",
   "metadata": {},
   "outputs": [],
   "source": [
    "a = 5\n",
    "\n",
    "p = 4 * a\n",
    "s= a ** 2\n",
    "\n",
    "print(f\"perimetri {p}, yuzasi {s}\")"
   ]
  },
  {
   "cell_type": "code",
   "execution_count": null,
   "id": "9a577db9",
   "metadata": {},
   "outputs": [],
   "source": [
    "\n",
    "d = 20\n",
    "l = 3.14 * d\n",
    "print(f'doira uzinligi {l}')"
   ]
  },
  {
   "cell_type": "code",
   "execution_count": null,
   "id": "69e3c3ad",
   "metadata": {},
   "outputs": [],
   "source": [
    "\n",
    "f = 5\n",
    "j = 9\n",
    "mean = (f+j)//2\n",
    "print(mean)"
   ]
  },
  {
   "cell_type": "code",
   "execution_count": null,
   "id": "16740130",
   "metadata": {},
   "outputs": [],
   "source": [
    "\n",
    "c = 3\n",
    "e = 4\n",
    "\n",
    "sum = c + e\n",
    "product = c * e\n",
    "c_square = c ** 2\n",
    "e_square = e ** 2\n",
    "\n",
    "print(f\"yigindisi {sum}, ko'paytmasi {product}, c kvadrati {c_square}, e kvadarti {e_square}\")"
   ]
  }
 ],
 "metadata": {
  "language_info": {
   "name": "python"
  }
 },
 "nbformat": 4,
 "nbformat_minor": 5
}
