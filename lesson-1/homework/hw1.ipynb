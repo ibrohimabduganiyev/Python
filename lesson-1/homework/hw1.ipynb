{
 "cells": [
  {
   "cell_type": "code",
   "execution_count": null,
   "id": "ac08ffc7",
   "metadata": {},
   "outputs": [
    {
     "name": "stdout",
     "output_type": "stream",
     "text": [
      "perimetri 20, yuzasi 25\n"
     ]
    }
   ],
   "source": [
    "## 1.Given a side of square. Find its perimeter and area.\n",
    "\n",
    "side = 5\n",
    "\n",
    "perimetr = 4 * side\n",
    "square= side ** 2\n",
    "\n",
    "print(f\"perimetri {perimetr}, yuzasi {square}\")"
   ]
  },
  {
   "cell_type": "code",
   "execution_count": null,
   "id": "9a577db9",
   "metadata": {},
   "outputs": [
    {
     "name": "stdout",
     "output_type": "stream",
     "text": [
      "doira uzinligi 63\n"
     ]
    }
   ],
   "source": [
    "## 2.Given diameter of circle. Find its length.\n",
    "\n",
    "import math\n",
    "\n",
    "diametr = 20\n",
    "length = math.pi * diametr\n",
    "print(f'doira uzinligi {round(length)}')"
   ]
  },
  {
   "cell_type": "code",
   "execution_count": null,
   "id": "69e3c3ad",
   "metadata": {},
   "outputs": [
    {
     "name": "stdout",
     "output_type": "stream",
     "text": [
      "7\n"
     ]
    }
   ],
   "source": [
    "## 3.Given two numbers a and b. Find their mean.\n",
    "\n",
    "fisrt = 5\n",
    "second = 9\n",
    "mean = (fisrt+second)//2\n",
    "print(mean)"
   ]
  },
  {
   "cell_type": "code",
   "execution_count": null,
   "id": "16740130",
   "metadata": {},
   "outputs": [
    {
     "name": "stdout",
     "output_type": "stream",
     "text": [
      "yigindisi 7, ko'paytmasi 12, a kvadrati 9, b kvadarti 16\n"
     ]
    }
   ],
   "source": [
    "## 4.Given two numbers a and b. Find their sum, product and square of each number\n",
    "\n",
    "a = 3\n",
    "b = 4\n",
    "\n",
    "sum = a + b\n",
    "product = a * b\n",
    "a_square = a ** 2\n",
    "b_square = b ** 2\n",
    "\n",
    "print(f\"yigindisi {sum}, ko'paytmasi {product}, a kvadrati {a_square}, b kvadarti {b_square}\")"
   ]
  },
  {
   "cell_type": "code",
   "execution_count": null,
   "id": "134962b3",
   "metadata": {},
   "outputs": [],
   "source": []
  }
 ],
 "metadata": {
  "kernelspec": {
   "display_name": "Python 3",
   "language": "python",
   "name": "python3"
  },
  "language_info": {
   "codemirror_mode": {
    "name": "ipython",
    "version": 3
   },
   "file_extension": ".py",
   "mimetype": "text/x-python",
   "name": "python",
   "nbconvert_exporter": "python",
   "pygments_lexer": "ipython3",
   "version": "3.12.9"
  }
 },
 "nbformat": 4,
 "nbformat_minor": 5
}
