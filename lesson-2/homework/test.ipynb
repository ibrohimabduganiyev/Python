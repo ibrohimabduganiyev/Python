{
 "cells": [
  {
   "cell_type": "code",
   "execution_count": 1,
   "metadata": {},
   "outputs": [
    {
     "name": "stdout",
     "output_type": "stream",
     "text": [
      "hello dalot, when starts new match\n",
      "hello ranaldo, when starts new match\n",
      "hello bruno, when starts new match\n"
     ]
    }
   ],
   "source": [
    "players = ['dalot', 'ranaldo', 'bruno']\n",
    "for i in players:\n",
    "    msg= 'hello {}, when starts new match'.format(i)\n",
    "    print(msg)"
   ]
  },
  {
   "cell_type": "code",
   "execution_count": 2,
   "metadata": {},
   "outputs": [
    {
     "name": "stdout",
     "output_type": "stream",
     "text": [
      "im ibrohim, and im Raect dev progremmer\n"
     ]
    }
   ],
   "source": [
    "name = 'ibrohim'\n",
    "developer = 'Raect'\n",
    "\n",
    "info = f'im {name}, and im {developer} dev progremmer'\n",
    "\n",
    "print(info)"
   ]
  },
  {
   "cell_type": "code",
   "execution_count": 1,
   "metadata": {},
   "outputs": [
    {
     "data": {
      "text/plain": [
       "'Matiz'"
      ]
     },
     "execution_count": 1,
     "metadata": {},
     "output_type": "execute_result"
    }
   ],
   "source": [
    "car = 'MsaatmiazD'\n",
    "car[0::2]"
   ]
  },
  {
   "cell_type": "code",
   "execution_count": 10,
   "metadata": {},
   "outputs": [
    {
     "name": "stdout",
     "output_type": "stream",
     "text": [
      "London\n"
     ]
    }
   ],
   "source": [
    "txt = \"I'am John. I am from London\"\n",
    "txt_words = txt.split()\n",
    "country = txt_words[5]\n",
    "print(country)"
   ]
  },
  {
   "cell_type": "code",
   "execution_count": null,
   "metadata": {},
   "outputs": [
    {
     "name": "stdout",
     "output_type": "stream",
     "text": [
      "teskari: tamhar idalob\n"
     ]
    }
   ],
   "source": [
    "msg = input(\"matn kiriting, men uni teskari qilib ko'rsataman: \")\n",
    "text = msg[::-1]\n",
    "print(f\"teskari yozuv: {text}\")"
   ]
  },
  {
   "cell_type": "code",
   "execution_count": 21,
   "metadata": {},
   "outputs": [
    {
     "name": "stdout",
     "output_type": "stream",
     "text": [
      "palindrom\n"
     ]
    }
   ],
   "source": [
    "palindrom = input('matn kiriting men uni palindrom ekanligini tekshiraman')\n",
    "if palindrom ==palindrom[::-1] : print(\"palindrom\")\n",
    "else : print(\"palindrom emas\")"
   ]
  },
  {
   "cell_type": "code",
   "execution_count": 23,
   "metadata": {},
   "outputs": [
    {
     "name": "stdout",
     "output_type": "stream",
     "text": [
      "grapes\n"
     ]
    }
   ],
   "source": [
    "fruits = ['apple', 'banans', 'grapes', 'melon', 'strawberry']\n",
    "fruit = fruits[2]\n",
    "print(fruit)"
   ]
  },
  {
   "cell_type": "code",
   "execution_count": 48,
   "metadata": {},
   "outputs": [
    {
     "name": "stdout",
     "output_type": "stream",
     "text": [
      "[1, 2, 3, 4, 5, 6, 7, 8, 9, 10]\n"
     ]
    }
   ],
   "source": [
    "numbers1 = [1, 2, 3, 4, 5]\n",
    "numbers2=[6, 7, 8, 9, 10]\n",
    "numbers1.extend(numbers2)\n",
    "\n",
    "print(numbers1)\n"
   ]
  },
  {
   "cell_type": "code",
   "execution_count": 58,
   "metadata": {},
   "outputs": [
    {
     "name": "stdout",
     "output_type": "stream",
     "text": [
      "[1, 6, 10]\n"
     ]
    }
   ],
   "source": [
    "first = numbers1[0]\n",
    "middle=numbers1[len(numbers1)//2]\n",
    "last=numbers1[-1]\n",
    "\n",
    "new_ls=[first, middle, last]\n",
    "\n",
    "print(new_ls)"
   ]
  },
  {
   "cell_type": "code",
   "execution_count": 60,
   "metadata": {},
   "outputs": [
    {
     "name": "stdout",
     "output_type": "stream",
     "text": [
      "parij bu ro'yxatda bor\n"
     ]
    }
   ],
   "source": [
    "countries = ['london', 'parij', 'manchester', 'barcelona']\n",
    "\n",
    "if 'parij' in countries : print(\"parij bu ro'yxatda bor\")\n",
    "else : print(\"parij bu ro'yxatda yo'q\")\n"
   ]
  },
  {
   "cell_type": "code",
   "execution_count": 61,
   "metadata": {},
   "outputs": [
    {
     "name": "stdout",
     "output_type": "stream",
     "text": [
      "[1, 2, 3, 1, 2, 3]\n"
     ]
    }
   ],
   "source": [
    "num = [1,2,3]\n",
    "nums = num*2\n",
    "print(nums)"
   ]
  },
  {
   "cell_type": "code",
   "execution_count": 67,
   "metadata": {},
   "outputs": [
    {
     "name": "stdout",
     "output_type": "stream",
     "text": [
      "[5, 2, 3, 4, 1]\n"
     ]
    }
   ],
   "source": [
    "data = [1,2,3,4,5]\n",
    "first_num = data[0]\n",
    "data[0] = data[-1]\n",
    "data[-1]=first_num\n",
    "print(data)"
   ]
  },
  {
   "cell_type": "code",
   "execution_count": 69,
   "metadata": {},
   "outputs": [
    {
     "name": "stdout",
     "output_type": "stream",
     "text": [
      "perimetri 20, yuzasi 25\n"
     ]
    }
   ],
   "source": [
    "a = 5\n",
    "\n",
    "p = 4 * a\n",
    "s= a ** 2\n",
    "\n",
    "print(f\"perimetri {p}, yuzasi {s}\")"
   ]
  },
  {
   "cell_type": "code",
   "execution_count": 70,
   "metadata": {},
   "outputs": [
    {
     "name": "stdout",
     "output_type": "stream",
     "text": [
      "doira uzinligi 62.800000000000004\n"
     ]
    }
   ],
   "source": [
    "d = 20\n",
    "l = 3.14 * d\n",
    "print(f'doira uzinligi {l}')"
   ]
  },
  {
   "cell_type": "code",
   "execution_count": 72,
   "metadata": {},
   "outputs": [
    {
     "name": "stdout",
     "output_type": "stream",
     "text": [
      "7\n"
     ]
    }
   ],
   "source": [
    "f = 5\n",
    "j = 9\n",
    "mean = (f+j)//2\n",
    "print(mean)"
   ]
  },
  {
   "cell_type": "code",
   "execution_count": 73,
   "metadata": {},
   "outputs": [
    {
     "name": "stdout",
     "output_type": "stream",
     "text": [
      "yigindisi 7, ko'paytmasi 12, c kvadrati 9, e kvadarti 16\n"
     ]
    }
   ],
   "source": [
    "c = 3\n",
    "e = 4\n",
    "\n",
    "sum = c + e\n",
    "product = c * e\n",
    "c_square = c ** 2\n",
    "e_square = e ** 2\n",
    "\n",
    "print(f\"yigindisi {sum}, ko'paytmasi {product}, c kvadrati {c_square}, e kvadarti {e_square}\")"
   ]
  }
 ],
 "metadata": {
  "kernelspec": {
   "display_name": "Python 3",
   "language": "python",
   "name": "python3"
  },
  "language_info": {
   "codemirror_mode": {
    "name": "ipython",
    "version": 3
   },
   "file_extension": ".py",
   "mimetype": "text/x-python",
   "name": "python",
   "nbconvert_exporter": "python",
   "pygments_lexer": "ipython3",
   "version": "3.12.9"
  }
 },
 "nbformat": 4,
 "nbformat_minor": 2
}
